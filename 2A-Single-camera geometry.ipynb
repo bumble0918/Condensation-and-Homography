{
 "cells": [
  {
   "cell_type": "markdown",
   "metadata": {},
   "source": [
    "# Practical 7 - Part 2A - Zuohe Zheng\n",
    "This project explores the geometry of a single camera. The aim is to take several points on\n",
    "a plane, and predict where they will appear in the camera image. Based on these observed\n",
    "points, we will then try to re-estimate the Euclidean transformation relating the plane and\n",
    "the camera. In practical 2B we will use this code to draw a wireframe cube\n",
    "on an augmented reality marker.   You should use this\n",
    "template for your code and fill in the missing sections marked \"TO DO\""
   ]
  },
  {
   "cell_type": "markdown",
   "metadata": {},
   "source": [
    "# Import libraries "
   ]
  },
  {
   "cell_type": "code",
   "execution_count": 2,
   "metadata": {},
   "outputs": [],
   "source": [
    "%matplotlib inline\n",
    "import os \n",
    "import numpy as np\n",
    "import matplotlib.pyplot as plt\n",
    "import scipy.io as sio"
   ]
  },
  {
   "cell_type": "markdown",
   "metadata": {},
   "source": [
    "# TO DO - fill in projectiveCamera and estimatePlanePose functions  (you will have to utilise your solutions for solveAXEqualsZero and calcBestHomography from Part 1)"
   ]
  },
  {
   "cell_type": "code",
   "execution_count": 3,
   "metadata": {},
   "outputs": [],
   "source": [
    "#The goal of this function is to project points in XCart through projective camera\n",
    "#defined by intrinsic matrix K and extrinsic matrix T.\n",
    "def projectiveCamera(K,T,XCart):\n",
    "    \n",
    "    # TO DO: Replace this\n",
    "    # XImCart =\n",
    "\n",
    "    # TO DO: Convert Cartesian 3d points XCart to homogeneous coordinates XHom\n",
    "    # by appending a row of 1 to the original point coordinates to form [u,v,w,1]\n",
    "    XHom = np.concatenate((XCart, np.ones((1,XCart.shape[1]))), axis=0)\n",
    "    # TO DO: Apply extrinsic matrix to XHom, to move to frame of reference of camera\n",
    "    # = lambda * [x',y',1, 1/lambda]\n",
    "    xCamHom1 = T @ XHom\n",
    "    # TO DO: Project points into normalized camera coordinates xCamHom (remove 4th row)\n",
    "    # = lambda * [x',y',1]\n",
    "    xCamHom = xCamHom1[0:3,:]\n",
    "    # TO DO: Move points to image coordinates xImHom by applying intrinsic matrix\n",
    "    # = lambda * [x,y,1]\n",
    "    xImHom = K @ xCamHom\n",
    "    # TO DO: Convert points back to Cartesian coordinates xImCart\n",
    "    # x = (lambda * x) / lambda\n",
    "    # y = (lambda * y) / lambda\n",
    "    XImCart = xImHom[0:2,:] / np.tile([xImHom[2,:]],(2,1))\n",
    "    return XImCart\n"
   ]
  },
  {
   "cell_type": "code",
   "execution_count": 4,
   "metadata": {},
   "outputs": [],
   "source": [
    "def solveAXEqualsZero(A):\n",
    "    # TO DO: Write this routine - it should solve Ah = 0   \n",
    "    h = np.zeros(shape = [np.size(A),1])\n",
    "    [U,L,Vt] = np.linalg.svd(A)\n",
    "    V = np.transpose(Vt)\n",
    "    h = V[:,-1]\n",
    "    return h"
   ]
  },
  {
   "cell_type": "code",
   "execution_count": 8,
   "metadata": {},
   "outputs": [],
   "source": [
    "# Goal of function is to estimate pose of plane relative to camera (extrinsic matrix)\n",
    "# given points in image xImCart, points in world XCart and intrinsic matrix K\n",
    "\n",
    "def estimatePlanePose(XImCart,XCart,K):\n",
    "\n",
    "    # TO DO: replace this\n",
    "    #T = \n",
    "\n",
    "    # TO DO: Convert Cartesian image points XImCart to homogeneous representation XImHom\n",
    "    # by appending a row of 1 to the original point coordinates to form [x,y,1]\n",
    "    XImHom = np.concatenate((XImCart, np.ones((1,XImCart.shape[1]))), axis=0)\n",
    "    \n",
    "    # TO DO: Convert image co-ordinates XImHom to normalized camera coordinates XCamHom    \n",
    "    # multiply with inverse of intrinsic matrix\n",
    "    XCamHom = np.linalg.inv(K) @ XImHom\n",
    "    \n",
    "    # TO DO: Estimate homography H mapping homogeneous (x,y) coordinates of positions\n",
    "    # in real world to XCamHom (convert XCamHom to Cartesian, calculate the homography) -\n",
    "    # use the routine you wrote for Practical 1B\n",
    "    \n",
    "    # Extract the u and v coordinates of Cartesian 3d points XCart\n",
    "    XCart = XCart[0:2,:]\n",
    "    \n",
    "    # Convert XCart to homogeneous coordinates XCartHom\n",
    "    # [u,v] to [u,v,1]\n",
    "    XCartHom = np.concatenate((XCart, np.ones((1,XCart.shape[1]))), axis=0)\n",
    "    \n",
    "    # Then construct the matrix A, size (n_points,9) \n",
    "    n_points = np.shape(XCamHom)[1]\n",
    "    A = np.zeros(shape = [n_points*2,9])\n",
    "    for n in range(n_points):\n",
    "        A[2*n,[0,1,2]] = 0\n",
    "        A[2*n,[3,4,5]] = -XCartHom[:,n]\n",
    "        A[2*n,[6,7,8]] = XCartHom[:,n] * XCamHom[1,n]\n",
    "        A[2*n+1,[0,1,2]] = XCartHom[:,n]\n",
    "        A[2*n+1,[3,4,5]] = 0\n",
    "        A[2*n+1,[6,7,8]] = -XCartHom[:,n] * XCamHom[0,n]\n",
    "    \n",
    "    # Solve Ah = 0\n",
    "    h = solveAXEqualsZero(A)\n",
    "    # Reshape h into the matrix H, values of h go first into rows of H\n",
    "    h_width = np.sqrt(np.size(h))\n",
    "    h_width = int(h_width)\n",
    "    H = np.reshape(h,[h_width,h_width])\n",
    "     \n",
    "    # TO DO: Estimate first two columns of rotation matrix R from the first two\n",
    "    # columns of H using the SVD\n",
    "    # SVD decomposition of the first two columns of H\n",
    "    [U,L,Vt] = np.linalg.svd(H[:,0:2])\n",
    "    R = np.zeros(shape=[h_width,h_width])\n",
    "    # Replace L with [1,0;0,1;0,0] to form the first two columns of R\n",
    "    l = np.array([[1,0],[0,1],[0,0]])\n",
    "    R[:,0:2] = U @ l @ Vt\n",
    "\n",
    "    # TO DO: Estimate the third column of the rotation matrix by taking the cross\n",
    "    # product of the first two columns\n",
    "    R[:,2] = np.cross(R[:,0],R[:,1])\n",
    "        \n",
    "    # TO DO: Check that the determinant of the rotation matrix is positive - if\n",
    "    # not then multiply last column by -1.\n",
    "    if np.linalg.det(R) <= 0 :\n",
    "        R[:,-1] = - R[:,-1]\n",
    "    \n",
    "    # TO DO: Estimate the translation t by finding the appropriate scaling factor k\n",
    "    # and applying it to the third colulmn of H\n",
    "    # Find translation scaling factor between old and new values\n",
    "    Lamb = H / R\n",
    "    lamb = np.sum(Lamb[0:3,0:2]) / 6\n",
    "    t = H[:,-1] / lamb\n",
    "    \n",
    "    # TO DO: Check whether t_z is negative - if it is then multiply t by -1 and\n",
    "    # the first two columns of R by -1.\n",
    "    if t[-1] < 0 :\n",
    "        t = -t\n",
    "        R[:,0:2] = -R[:,0:2]\n",
    "    \n",
    "            \n",
    "    # TO DO: Assemble transformation into matrix form\n",
    "    # append [Tx,Ty,Tz] to R as the last column\n",
    "    # then append [0,0,0,1] as the last row to form the final transformation matrix\n",
    "    t = np.reshape(t,[3,1])\n",
    "    T = np.concatenate((R, t), axis=1)\n",
    "    T = np.concatenate((T, np.array([[0,0,0,1]])), axis=0)\n",
    "    \n",
    "    return T "
   ]
  },
  {
   "cell_type": "markdown",
   "metadata": {},
   "source": [
    "# Once you have completed these functions, use them to estimate the transformation from the plane co-ordinate system to the camera co-ordinate system (i.e. the extrinsic matrix)"
   ]
  },
  {
   "cell_type": "code",
   "execution_count": 24,
   "metadata": {},
   "outputs": [
    {
     "name": "stdout",
     "output_type": "stream",
     "text": [
      "[[ 9.85697964e-01 -4.81515155e-02  1.61495992e-01  4.62596500e+01]\n",
      " [-1.61296113e-01 -5.47167759e-01  8.21334893e-01  7.09770533e+01]\n",
      " [ 4.88168801e-02 -8.35636808e-01 -5.47108799e-01  5.05019303e+02]\n",
      " [ 0.00000000e+00  0.00000000e+00  0.00000000e+00  1.00000000e+00]]\n"
     ]
    }
   ],
   "source": [
    "# We assume that the intrinsic camera matrix K is known and has values\n",
    "K = np.array([[640, 0, 320],\n",
    "             [0, 640, 240],\n",
    "             [0, 0, 1]])\n",
    "\n",
    "# We will assume an object co-ordinate system with the Z-axis pointing upwards and the origin\n",
    "# in the centre of the plane. There are four known points on the plane with coordinates (mm):\n",
    "XCart = np.array([[-100, -100,  100,  100, 0],\n",
    "                  [-100,  100,  100, -100, 0],\n",
    "                  [   0,    0,    0,    0, 0]])\n",
    "\n",
    "# We assume the correct transformation from the plane co-ordinate system to the\n",
    "# camera co-ordinate system (extrinsic matrix) is:\n",
    "T = np.array([[0.9851,  -0.0492,  0.1619,  46.00],\n",
    "             [-0.1623,  -0.5520,  0.8181,  70.00],\n",
    "             [0.0490,  -0.8324, -0.5518,  500.89],\n",
    "             [0,        0,       0,       1]])\n",
    "  \n",
    "# TO DO: Use the general pin-hole projective camera model discussed in the lectures to estimate \n",
    "# where the four points on the plane will appear in the image.  Fill in the\n",
    "# details of the function \"projectiveCamera\" - body of function appears below:\n",
    "XImCart = projectiveCamera(K,T,XCart)\n",
    "\n",
    "# TO DO: Add noise (standard deviation of one pixel in each direction) to the pixel positions\n",
    "# to simulate having to find these points in a noisy image. Store the results back in xImCart\n",
    "XImCart[0,:] = XImCart[0,:] + np.random.normal(0,1,np.shape(XImCart[0,:]))\n",
    "XImCart[1,:] = XImCart[1,:] + np.random.normal(0,1,np.shape(XImCart[0,:]))\n",
    "\n",
    "# TO DO: Now we will take the image points and the known positions on the card and estimate  \n",
    "# the extrinsic matrix using the algorithm discussed in the lecture.  Fill in the details of \n",
    "# the function \"estimate plane pose\"\n",
    "TEst = estimatePlanePose(XImCart,XCart,K)\n",
    "print(TEst)\n",
    "\n",
    "# If you have got this correct, Test should closely resemble T above"
   ]
  }
 ],
 "metadata": {
  "kernelspec": {
   "display_name": "Python 2",
   "language": "python",
   "name": "python2"
  },
  "language_info": {
   "codemirror_mode": {
    "name": "ipython",
    "version": 3
   },
   "file_extension": ".py",
   "mimetype": "text/x-python",
   "name": "python",
   "nbconvert_exporter": "python",
   "pygments_lexer": "ipython3",
   "version": "3.7.1"
  }
 },
 "nbformat": 4,
 "nbformat_minor": 1
}
