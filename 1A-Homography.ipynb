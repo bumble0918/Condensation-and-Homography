{
 "cells": [
  {
   "cell_type": "markdown",
   "metadata": {},
   "source": [
    "# Practical 7 - Part 1A - Zuohe Zheng\n",
    "The aim of part 1A is to calculate the homography that best maps two sets of points to one another.  We will (eventually) use this for creating panoramas, and for calculating the 3D pose of planes.  You should use this\n",
    "template for your code and fill in the missing sections marked \"TO DO\"\n"
   ]
  },
  {
   "cell_type": "markdown",
   "metadata": {},
   "source": [
    "# Import libraries "
   ]
  },
  {
   "cell_type": "code",
   "execution_count": 22,
   "metadata": {},
   "outputs": [],
   "source": [
    "%matplotlib inline\n",
    "import os \n",
    "import numpy as np\n",
    "import matplotlib.pyplot as plt\n",
    "import scipy.io as sio"
   ]
  },
  {
   "cell_type": "markdown",
   "metadata": {},
   "source": [
    "# Define a set of 2D points, then apply a homography to them"
   ]
  },
  {
   "cell_type": "code",
   "execution_count": 101,
   "metadata": {},
   "outputs": [],
   "source": [
    "# Define a set of two-dimensional Cartesian points\n",
    "pts1Cart = np.array([[240.5000, 16.8351, 33.5890, 164.2696, 149.1911],\n",
    "                    [248.8770, 193.5890, 251.3901, 168.4581, 228.7723]])\n",
    "\n",
    "# Convert points into homogeneous representation\n",
    "pts1Hom = np.concatenate((pts1Cart, np.ones((1,pts1Cart.shape[1]))), axis=0)\n",
    "\n",
    "# Define a homography\n",
    "H = np.array([[0.6, 0.7, -100.],\n",
    "              [1.0, 0.6, 50.],\n",
    "              [0.001, 0.002, 1.0]])\n",
    "\n",
    "# Apply a homography to the points\n",
    "pts2Hom = np.matmul(H,pts1Hom)\n",
    "\n",
    "# Convert back to Cartesian coordinates\n",
    "pts2Cart = pts2Hom[0:2,:] / np.tile([pts2Hom[2,:]],(2,1))\n",
    "\n",
    "# Add a small amount of noise\n",
    "noiseLevel = 4.0\n",
    "pts2Cart = pts2Cart + np.random.normal(0, noiseLevel, pts2Cart.shape)"
   ]
  },
  {
   "cell_type": "markdown",
   "metadata": {},
   "source": [
    "# Plot the first (original) and  second (after applying the homography) set of points "
   ]
  },
  {
   "cell_type": "code",
   "execution_count": 102,
   "metadata": {},
   "outputs": [
    {
     "data": {
      "image/png": "[encoded data removed]",
      "text/plain": [
       "<Figure size 432x288 with 1 Axes>"
      ]
     },
     "metadata": {
      "needs_background": "light"
     },
     "output_type": "display_data"
    }
   ],
   "source": [
    "# Plot a green line between pairs of actual points (red) and estimated points (magenta)\n",
    "nPoint = pts1Cart.shape[1]\n",
    "for cPoint in range(0, nPoint):\n",
    "    plt.plot([pts1Cart[0,cPoint], pts2Cart[0,cPoint]], [pts1Cart[1,cPoint], pts2Cart[1,cPoint]],'g-')\n",
    "    plt.plot(pts1Cart[0,cPoint],pts1Cart[1,cPoint],'b.', pts2Cart[0,cPoint],pts2Cart[1,cPoint],'r.') \n",
    "\n",
    "plt.show()"
   ]
  },
  {
   "cell_type": "markdown",
   "metadata": {},
   "source": [
    "Now our goal is to estimate the homography that maps the first points to the second set of points.\n",
    "\n",
    "# ****TO DO****: Fill in the details of these routines (solveAXEqualsZero and calcBestHomography). "
   ]
  },
  {
   "cell_type": "code",
   "execution_count": 94,
   "metadata": {},
   "outputs": [],
   "source": [
    "def solveAXEqualsZero(A):\n",
    "    # TO DO: Write this routine - it should solve Ah = 0 \n",
    "    \n",
    "    # The cross product of two sides([x,y,1] and transforming matrix h * [u,v,1])\n",
    "    # is zero: X * h W = 0, which can be solved as the form Ah = 0\n",
    "    # and h can be obtained by SVD decomposition: A = U * L * Vt\n",
    "    # then taking the last column of V (the transpose of Vt) as h\n",
    "    \n",
    "    h = np.zeros(shape = [np.size(A),1])\n",
    "    [U,L,Vt] = np.linalg.svd(A)\n",
    "    V = np.transpose(Vt)\n",
    "    h = V[:,-1]\n",
    "    return h"
   ]
  },
  {
   "cell_type": "code",
   "execution_count": 95,
   "metadata": {},
   "outputs": [],
   "source": [
    "# This function should apply the direct linear transform (DLT) algorithm to calculate the best \n",
    "# homography that maps the points in pts1Cart to their corresonding matching in pts2Cart\n",
    "def calcBestHomography(pts1Cart, pts2Cart):    \n",
    "    # TO DO: replace this\n",
    "    # H = \n",
    "    \n",
    "    # TO DO: \n",
    "    \n",
    "    # When viewing a fronto-parallel plane at a known distance D, the points are on a plane\n",
    "    # so w can be seen as 0 so [u,v,w] can be simplified as [u,v]\n",
    "    \n",
    "    # First convert points into homogeneous representation\n",
    "    # by appending a row of 1 to the original point coordinates to form [x,y,1] and [u,v,1]\n",
    "    pts1Hom = np.concatenate((pts1Cart, np.ones((1,pts1Cart.shape[1]))), axis=0)\n",
    "    pts2Hom = np.concatenate((pts2Cart, np.ones((1,pts2Cart.shape[1]))), axis=0)\n",
    "    \n",
    "    # Then construct the matrix A, size (n_points,9)  \n",
    "    n_points = np.shape(pts1Hom)[1]\n",
    "    A = np.zeros(shape = [n_points*2,9])\n",
    "    for n in range(n_points):\n",
    "        A[2*n,[0,1,2]] = 0\n",
    "        A[2*n,[3,4,5]] = -pts1Hom[:,n]\n",
    "        A[2*n,[6,7,8]] = pts1Hom[:,n] * pts2Hom[1,n]\n",
    "        A[2*n+1,[0,1,2]] = pts1Hom[:,n]\n",
    "        A[2*n+1,[3,4,5]] = 0\n",
    "        A[2*n+1,[6,7,8]] = -pts1Hom[:,n] * pts2Hom[0,n]\n",
    "    \n",
    "    # Solve Ah = 0\n",
    "    h = solveAXEqualsZero(A)\n",
    "    # Reshape h into the matrix H, values of h go first into rows of H\n",
    "    h_width = np.sqrt(np.size(h))\n",
    "    h_width = int(h_width)\n",
    "    H = np.reshape(h,[h_width,h_width])\n",
    "    return H"
   ]
  },
  {
   "cell_type": "markdown",
   "metadata": {},
   "source": [
    "Once you have completed the two routines above, we will see how well they work by applying the mapping and measuring the square distance between the desired and actual positions"
   ]
  },
  {
   "cell_type": "code",
   "execution_count": 103,
   "metadata": {},
   "outputs": [
    {
     "data": {
      "image/png": "[encoded data removed]",
      "text/plain": [
       "<Figure size 432x288 with 1 Axes>"
      ]
     },
     "metadata": {
      "needs_background": "light"
     },
     "output_type": "display_data"
    }
   ],
   "source": [
    "# TO DO: Fill in the details of this function from above \n",
    "# use the above function to calculate the best homography \n",
    "# that maps the points in pts1Cart to their corresonding matching in pts2Cart\n",
    "HEst = calcBestHomography(pts1Cart, pts2Cart)\n",
    "\n",
    "# Apply estimated homography to pts1 to get estimated pts2\n",
    "pts2EstHom = np.matmul(HEst,pts1Hom)\n",
    "\n",
    "# Convert back to Cartesian coordinates\n",
    "# x = x' / z'\n",
    "# y = y' / z'\n",
    "pts2EstCart = pts2EstHom[0:2,:] / np.tile([pts2EstHom[2,:]],(2,1))\n",
    "\n",
    "# Calculate the mean squared distance from actual points\n",
    "sqDiff = np.mean(sum((pts2Cart - pts2EstCart)**2))\n",
    "\n",
    "# Draw figure with points before and after applying the estimated homography\n",
    "nPoint = pts1Cart.shape[1]\n",
    "\n",
    "# Plot a green line between pairs of actual points (red) and estimated points (magenta)\n",
    "for cPoint in range(0, nPoint):\n",
    "    plt.plot([pts2Cart[0,cPoint], pts2EstCart[0,cPoint]], [pts2Cart[1,cPoint], pts2EstCart[1,cPoint]],'g-')\n",
    "    plt.plot(pts2Cart[0,cPoint],pts2Cart[1,cPoint],'r.',pts2EstCart[0,cPoint],pts2EstCart[1,cPoint],'m.') \n",
    "\n",
    "plt.show()"
   ]
  },
  {
   "cell_type": "markdown",
   "metadata": {},
   "source": [
    "# Other things **** TO DO ****\n",
    "\n",
    "1: Convince yourself that the homography is ambiguous up to scale (by\n",
    "multiplying it by a constant factor and showing it does the same thing).\n",
    "Can you see why this is the case mathematically?\n",
    "\n",
    "2: Show empirically that your homography routine can map any four points exactly to any\n",
    "other four points"
   ]
  },
  {
   "cell_type": "code",
   "execution_count": 104,
   "metadata": {},
   "outputs": [
    {
     "data": {
      "image/png": "[encoded data removed]",
      "text/plain": [
       "<Figure size 432x288 with 1 Axes>"
      ]
     },
     "metadata": {
      "needs_background": "light"
     },
     "output_type": "display_data"
    }
   ],
   "source": [
    "# multiply the estimated homography by a constant factor to change the scale\n",
    "HEst_new = HEst * np.random.randn(1)\n",
    "\n",
    "# Apply the new estimated homography to pts1 to get a new group of estimated pts2\n",
    "pts2EstHom_new = np.matmul(HEst_new,pts1Hom)\n",
    "\n",
    "# Convert back to Cartesian coordinates\n",
    "pts2EstCart_new = pts2EstHom_new[0:2,:] / np.tile([pts2EstHom_new[2,:]],(2,1))\n",
    "\n",
    "# Calculate the mean squared distance from actual points\n",
    "sqDiff = np.mean(sum((pts2Cart - pts2EstCart_new)**2))\n",
    "\n",
    "# Draw figure with points before and after applying the estimated homography\n",
    "nPoint = pts1Cart.shape[1]\n",
    "\n",
    "# Plot a green line between pairs of actual points (red) and new estimated points (blue)\n",
    "for cPoint in range(0, nPoint):\n",
    "    plt.plot([pts2Cart[0,cPoint], pts2EstCart_new[0,cPoint]], [pts2Cart[1,cPoint], pts2EstCart_new[1,cPoint]],'g-')\n",
    "    plt.plot(pts2Cart[0,cPoint],pts2Cart[1,cPoint],'r.',pts2EstCart_new[0,cPoint],pts2EstCart_new[1,cPoint],'b.') \n",
    "\n",
    "plt.show()"
   ]
  },
  {
   "cell_type": "markdown",
   "metadata": {},
   "source": [
    "The above figure shows exactly the same as the figure before that containing true pts2 and first group of estimated pts2. This proves that the homography is ambiguous up to scale. The reason is that when converting homogeneous coordinates back to Cartesian coordinates, x = x' / z' and y = y' / z', where x', y' and z' are all multiplied by the constant, so the constant will be eliminated."
   ]
  },
  {
   "cell_type": "code",
   "execution_count": 57,
   "metadata": {},
   "outputs": [
    {
     "data": {
      "image/png": "[encoded data removed]",
      "text/plain": [
       "<Figure size 432x288 with 1 Axes>"
      ]
     },
     "metadata": {
      "needs_background": "light"
     },
     "output_type": "display_data"
    },
    {
     "data": {
      "image/png": "[encoded data removed]",
      "text/plain": [
       "<Figure size 432x288 with 1 Axes>"
      ]
     },
     "metadata": {
      "needs_background": "light"
     },
     "output_type": "display_data"
    },
    {
     "data": {
      "image/png": "[encoded data removed]",
      "text/plain": [
       "<Figure size 432x288 with 1 Axes>"
      ]
     },
     "metadata": {
      "needs_background": "light"
     },
     "output_type": "display_data"
    }
   ],
   "source": [
    "for iTime in range(3):\n",
    "    \n",
    "    # randomly generate two groups of four points\n",
    "    pts3Cart = np.random.randint(low = 0, high = 300, size = [2,4])\n",
    "    pts4Cart = np.random.randint(low = 0, high = 300, size = [2,4])\n",
    "    \n",
    "    # compute the estimated homography using two groups of point\n",
    "    HEst = calcBestHomography(pts3Cart, pts4Cart)\n",
    "    \n",
    "    # Apply estimated homography to pts3 to get estimated pts4\n",
    "    pts3Hom = np.concatenate((pts3Cart, np.ones((1,pts3Cart.shape[1]))), axis=0)\n",
    "    pts4EstHom = np.matmul(HEst,pts3Hom)\n",
    "\n",
    "    # Convert back to Cartesian coordinates\n",
    "    pts4EstCart = pts4EstHom[0:2,:] / np.tile([pts4EstHom[2,:]],(2,1))\n",
    "\n",
    "    # Draw figure with points before and after applying the estimated homography\n",
    "    nPoint = pts3Cart.shape[1]\n",
    "\n",
    "    # Plot two pairs of first group of points (red), the second group of points (megenta)\n",
    "    # and the estimated second group of points (blue)\n",
    "    # the green lines show the mapping between them\n",
    "    for cPoint in range(0, nPoint):\n",
    "#         plt.plot([pts3Cart[0,cPoint], pts4EstCart[0,cPoint]], [pts3Cart[1,cPoint], pts4EstCart[1,cPoint]],'g-')\n",
    "        plt.plot(pts4Cart[0,cPoint],pts4Cart[1,cPoint],'r.',pts4EstCart[0,cPoint],pts4EstCart[1,cPoint],'b.', \\\n",
    "                pts4Cart[0,cPoint],pts4Cart[1,cPoint],'m.') \n",
    "\n",
    "    plt.show()"
   ]
  },
  {
   "cell_type": "code",
   "execution_count": 107,
   "metadata": {},
   "outputs": [
    {
     "data": {
      "image/png": "[encoded data removed]",
      "text/plain": [
       "<Figure size 432x288 with 1 Axes>"
      ]
     },
     "metadata": {
      "needs_background": "light"
     },
     "output_type": "display_data"
    },
    {
     "data": {
      "image/png": "[encoded data removed]",
      "text/plain": [
       "<Figure size 432x288 with 1 Axes>"
      ]
     },
     "metadata": {
      "needs_background": "light"
     },
     "output_type": "display_data"
    },
    {
     "data": {
      "image/png": "[encoded data removed]",
      "text/plain": [
       "<Figure size 432x288 with 1 Axes>"
      ]
     },
     "metadata": {
      "needs_background": "light"
     },
     "output_type": "display_data"
    }
   ],
   "source": [
    "for iTime in range(3):\n",
    "    \n",
    "    # randomly generate two groups of four points\n",
    "    pts3Cart = np.random.randint(low = 0, high = 300, size = [2,5])\n",
    "    pts4Cart = np.random.randint(low = 0, high = 300, size = [2,5])\n",
    "    \n",
    "    # compute the estimated homography using two groups of point\n",
    "    HEst = calcBestHomography(pts3Cart, pts4Cart)\n",
    "    \n",
    "    # Apply estimated homography to pts3 to get estimated pts4\n",
    "    pts3Hom = np.concatenate((pts3Cart, np.ones((1,pts3Cart.shape[1]))), axis=0)\n",
    "    pts4EstHom = np.matmul(HEst,pts3Hom)\n",
    "\n",
    "    # Convert back to Cartesian coordinates\n",
    "    pts4EstCart = pts4EstHom[0:2,:] / np.tile([pts4EstHom[2,:]],(2,1))\n",
    "\n",
    "    # Draw figure with points before and after applying the estimated homography\n",
    "    nPoint = pts3Cart.shape[1]\n",
    "\n",
    "    # Plot two pairs of first group of points (red), the second group of points (megenta)\n",
    "    # and the estimated second group of points (blue)\n",
    "    # the green lines show the mapping between them\n",
    "    for cPoint in range(0, nPoint):\n",
    "#         plt.plot([pts3Cart[0,cPoint], pts4EstCart[0,cPoint]], [pts3Cart[1,cPoint], pts4EstCart[1,cPoint]],'g-')\n",
    "        plt.plot(pts4Cart[0,cPoint],pts4Cart[1,cPoint],'r.',pts4EstCart[0,cPoint],pts4EstCart[1,cPoint],'b.', \\\n",
    "                pts4Cart[0,cPoint],pts4Cart[1,cPoint],'m.') \n",
    "\n",
    "    plt.show()"
   ]
  },
  {
   "cell_type": "markdown",
   "metadata": {},
   "source": [
    "In the above figures, they show that using this homography routine can map any group of four points exactly to any other group of four points, but cannot map two groups of five points correctly. Because there are 9 parameters to calculate in the homography matrix but has 10 equations(two equations per point) so the solution is inaccurate."
   ]
  }
 ],
 "metadata": {
  "kernelspec": {
   "display_name": "Python 2",
   "language": "python",
   "name": "python2"
  },
  "language_info": {
   "codemirror_mode": {
    "name": "ipython",
    "version": 3
   },
   "file_extension": ".py",
   "mimetype": "text/x-python",
   "name": "python",
   "nbconvert_exporter": "python",
   "pygments_lexer": "ipython3",
   "version": "3.7.1"
  }
 },
 "nbformat": 4,
 "nbformat_minor": 1
}
